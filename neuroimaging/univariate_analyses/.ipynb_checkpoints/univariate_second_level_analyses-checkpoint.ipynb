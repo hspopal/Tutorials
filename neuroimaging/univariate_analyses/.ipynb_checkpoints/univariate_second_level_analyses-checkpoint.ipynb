{
 "cells": [
  {
   "cell_type": "code",
   "execution_count": null,
   "id": "b38f33a6",
   "metadata": {},
   "outputs": [],
   "source": [
    "## Set directories and import subject data"
   ]
  },
  {
   "cell_type": "code",
   "execution_count": null,
   "id": "3624380b",
   "metadata": {},
   "outputs": [],
   "source": [
    "data_dir = os.path.join(bids_dir, 'derivatives', task)\n",
    "outp_dir = data_dir+'group/'\n",
    "\n",
    "# Make directory for output if it doesn't exist\n",
    "if not os.path.exists(outp_dir):\n",
    "    os.makedirs(outp_dir)\n",
    "\n",
    "# Import participant info like IDs and demographic info\n",
    "subjs_info = pd.read_csv(bids_dir+'/participants.tsv', sep='\\t', index_col=False)\n",
    "#subjs_info = subjs_info.rename(columns={'participant_id': 'subject_label'})\n",
    "\n",
    "subjs_info"
   ]
  },
  {
   "cell_type": "code",
   "execution_count": null,
   "id": "5618872e",
   "metadata": {},
   "outputs": [],
   "source": [
    "## Second Level Design Matrix"
   ]
  },
  {
   "cell_type": "code",
   "execution_count": null,
   "id": "8d3ec36c",
   "metadata": {},
   "outputs": [],
   "source": [
    "subjs_info_num"
   ]
  },
  {
   "cell_type": "code",
   "execution_count": null,
   "id": "46a0b3c7",
   "metadata": {},
   "outputs": [],
   "source": [
    "subjs_info['diagnosis'].unique()"
   ]
  },
  {
   "cell_type": "code",
   "execution_count": null,
   "id": "6e1e89bf",
   "metadata": {},
   "outputs": [],
   "source": [
    "subjs_info_num = subjs_info.copy()\n",
    "subjs_info_num = subjs_info_num.replace({'diagnosis': {'CONTROL': -1, \n",
    "                                                       'SCHZ': 1,\n",
    "                                                       'BIPOLAR': 0,\n",
    "                                                       'ADHD': 0}})\n",
    "subjs_info_num = subjs_info_num.rename({'participant_id': 'subject_label'}, \n",
    "                                       axis='columns')\n",
    "\n",
    "design_matrix = make_second_level_design_matrix(subjs_info_num['subject_label'], \n",
    "                                                subjs_info_num[['subject_label',\n",
    "                                                                'diagnosis','age']])\n",
    "\n",
    "plot_design_matrix(design_matrix)"
   ]
  },
  {
   "cell_type": "code",
   "execution_count": null,
   "id": "1925d8a7",
   "metadata": {},
   "outputs": [],
   "source": [
    "def plot_stat_contours(filename, thresh=1, mc_alpha=0.001, clust_alpha=0.05, view='split', title=''):\n",
    "    # Find type of analysis\n",
    "    analysis = 'group'\n",
    "    \n",
    "    # Find stat map\n",
    "    stat_filename = os.path.join(data_dir, analysis,  \n",
    "                                    filename+'_unc.nii.gz')\n",
    "    stat_filename_mc = os.path.join(data_dir, analysis,  \n",
    "                                    filename+'_fpr-'+str(mc_alpha)+'_clust-'+str(clust_alpha)+'.nii.gz')\n",
    "    \n",
    "    # Import stat map as a cerebellum flatmap\n",
    "    funcdata = flatmap.vol_to_surf(stat_filename,\n",
    "                                  space='SUIT')\n",
    "    \n",
    "    \n",
    "    \n",
    "    mc_thresh = threshold_data[filename+'_fpr-'+str(mc_alpha)]\n",
    "    print(mc_thresh)\n",
    "    if mc_thresh == np.inf:\n",
    "        mc_thresh = 1000\n",
    "\n",
    "    if view == 'split':\n",
    "        # Set figure specs\n",
    "        fig = plt.figure(figsize=(15, 4))\n",
    "        gs = GridSpec(2, 3)\n",
    "        ax_img1 = plt.subplot(gs[0, :2])\n",
    "        ax_img2 = plt.subplot(gs[1, :2])\n",
    "        \n",
    "        hemi_lh = plot_stat_map(stat_filename, threshold=thresh, axes=ax_img1,\n",
    "                                cut_coords=range(-65,0, 10), display_mode='x', colorbar=True,\n",
    "                                cmap='coolwarm', symmetric_cbar=True, title='Left Hemisphere',\n",
    "                                annotate=False)\n",
    "        hemi_rh = plot_stat_map(stat_filename, threshold=thresh, axes=ax_img2,\n",
    "                                cut_coords=range(66,5, -10), display_mode='x', colorbar=True,\n",
    "                                cmap='coolwarm', symmetric_cbar=True, title='Right Hemisphere',\n",
    "                                annotate=False)\n",
    "        hemi_lh.add_contours(stat_filename_mc, levels=[-0.1,0.1], colors=['blue','red'], \n",
    "                          alpha=1, linewidths=1)\n",
    "        hemi_rh.add_contours(stat_filename_mc, levels=[-0.1,0.1], colors=['blue','red'], \n",
    "                          alpha=1, linewidths=1)\n",
    "        \n",
    "        ax_joint = plt.subplot(gs[:, 2:])\n",
    "        ax_joint.set(title='Cerebellum flatmap')\n",
    "        flatmap.plot(data=funcdata, cmap='hot',\n",
    "                    threshold=[-mc_thresh,mc_thresh],\n",
    "                    colorbar=False,\n",
    "                    render='matplotlib', new_figure=False)\n",
    "        \n",
    "    elif view == 'straight':\n",
    "        hemi_bh = plot_stat_map(stat_filename, threshold=thresh, \n",
    "                      cut_coords=range(-65,66, 10), display_mode='x', colorbar=True,\n",
    "                      cmap='coolwarm', symmetric_cbar=True, title=title)\n",
    "        hemi_bh.add_contours(stat_filename_mc, levels=[-0.1,0.1], colors=['blue','red'], \n",
    "                          alpha=1, linewidths=2)"
   ]
  },
  {
   "cell_type": "code",
   "execution_count": null,
   "id": "36ef6cf1",
   "metadata": {},
   "outputs": [],
   "source": []
  },
  {
   "cell_type": "code",
   "execution_count": null,
   "id": "19c50939",
   "metadata": {},
   "outputs": [],
   "source": []
  },
  {
   "cell_type": "code",
   "execution_count": null,
   "id": "78b21041",
   "metadata": {},
   "outputs": [],
   "source": []
  },
  {
   "cell_type": "code",
   "execution_count": null,
   "id": "51f8ab8d",
   "metadata": {},
   "outputs": [],
   "source": []
  }
 ],
 "metadata": {
  "kernelspec": {
   "display_name": "Python 3 (ipykernel)",
   "language": "python",
   "name": "python3"
  },
  "language_info": {
   "codemirror_mode": {
    "name": "ipython",
    "version": 3
   },
   "file_extension": ".py",
   "mimetype": "text/x-python",
   "name": "python",
   "nbconvert_exporter": "python",
   "pygments_lexer": "ipython3",
   "version": "3.11.5"
  }
 },
 "nbformat": 4,
 "nbformat_minor": 5
}

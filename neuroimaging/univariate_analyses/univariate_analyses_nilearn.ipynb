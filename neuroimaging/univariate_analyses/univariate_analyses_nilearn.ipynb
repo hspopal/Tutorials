{
 "cells": [
  {
   "cell_type": "markdown",
   "id": "b26cca4e",
   "metadata": {},
   "source": [
    "# Univariate Analyses with Nilearn"
   ]
  },
  {
   "cell_type": "markdown",
   "id": "a2baf64a",
   "metadata": {},
   "source": [
    "## Setup"
   ]
  },
  {
   "cell_type": "markdown",
   "id": "6983a91e",
   "metadata": {},
   "source": [
    "### Import packages"
   ]
  },
  {
   "cell_type": "code",
   "execution_count": null,
   "id": "d2d3a065",
   "metadata": {},
   "outputs": [],
   "source": [
    "import glob\n",
    "import os\n",
    "import sys\n",
    "\n",
    "import pandas as pd\n",
    "import numpy as np\n",
    "\n",
    "from nilearn.glm.first_level import FirstLevelModel"
   ]
  },
  {
   "cell_type": "markdown",
   "id": "b412d475",
   "metadata": {},
   "source": [
    "### Set directories"
   ]
  },
  {
   "cell_type": "code",
   "execution_count": null,
   "id": "c35161e8",
   "metadata": {},
   "outputs": [],
   "source": [
    "# Set BIDS project directory\n",
    "bids_dir = '/data/neuron/SCN/SR/'\n",
    "os.chdir(bids_dir)\n",
    "\n",
    "# Set output directory\n",
    "outp_dir = bids_dir + 'derivatives/SR_first_level/'+subj+'/'"
   ]
  },
  {
   "cell_type": "markdown",
   "id": "2f9fe016",
   "metadata": {},
   "source": [
    "### Define study specific parameters"
   ]
  },
  {
   "cell_type": "code",
   "execution_count": null,
   "id": "1cfd8a76",
   "metadata": {},
   "outputs": [],
   "source": [
    "task = 'SR'\n",
    "\n",
    "# Define fmriprep template space\n",
    "template = 'MNIPediatricAsym_cohort-5_res-2'\n",
    "\n",
    "tr = 1.25  # repetition time is 1.25 seconds\n",
    "n_scans = 241  # the acquisition comprises 241 scans\n",
    "frame_times = np.arange(n_scans) * tr  # here are the corresponding frame times\n"
   ]
  },
  {
   "cell_type": "markdown",
   "id": "5a7c8c8a",
   "metadata": {},
   "source": [
    "# Single Subject Analysis"
   ]
  },
  {
   "cell_type": "code",
   "execution_count": null,
   "id": "57b88a9d",
   "metadata": {},
   "outputs": [],
   "source": [
    "# Make participant-specific directory for output if it doesn't exist\n",
    "if not os.path.exists(outp_dir):\n",
    "    os.makedirs(outp_dir)"
   ]
  },
  {
   "cell_type": "code",
   "execution_count": null,
   "id": "de2bec4b",
   "metadata": {},
   "outputs": [],
   "source": [
    "# Find all of the preprocessed functional runs\n",
    "func_runs = [f for f in glob.glob(bids_dir + '/derivatives/fmriprep/'+subj+'/func/'+subj+'_task-'+task+'*space-'+template+'_desc-preproc_bold.nii.gz', recursive=True)]\n",
    "func_runs.sort()\n",
    "print('Number of functional runs for '+subj+': '+str(len(func_runs)))"
   ]
  },
  {
   "cell_type": "code",
   "execution_count": null,
   "id": "b53d67ed",
   "metadata": {},
   "outputs": [],
   "source": [
    "# Grab subject's T1 as a mask to keep analysis in subject space\n",
    "subj_t1 = bids_dir+'derivatives/fmriprep/'+subj+'/anat/'+subj+'_space-'+template+'_label-GM_probseg_bin.nii.gz'\n",
    "\n",
    "# Find the task event files that are ready to become design matrices\n",
    "event_files = [f for f in glob.glob(bids_dir + '/derivatives/task_socialreward/data/SCN_'+subj[-3:]+'/'+subj+'_task-'+task+'_run-*_desc-events'+'.csv', recursive=True)]\n",
    "event_files.sort()\n",
    "\n",
    "# Set path to subject specific fmriprep output\n",
    "fmri_run_data_dir = bids_dir+'derivatives/fmriprep/'+subj+'/func/'\n",
    "\n",
    "# Set motion parameters to regress out\n",
    "motion_reg_names = ['trans_x','trans_y','trans_z','rot_x','rot_y','rot_z']\n",
    "confounds = []\n",
    "events = []\n",
    "\n",
    "# Set the relevant conditions (not contrasts)\n",
    "relv_conds = ['HighReward_Computer','HighReward_Computer-fb',\n",
    "              'HighReward_DisPeer','HighReward_DisPeer-fb',\n",
    "              'HighReward_SimPeer','HighReward_SimPeer-fb',\n",
    "              'LowReward_Computer','LowReward_Computer-fb',\n",
    "              'LowReward_DisPeer','LowReward_DisPeer-fb',\n",
    "              'LowReward_SimPeer','LowReward_SimPeer-fb']"
   ]
  },
  {
   "cell_type": "markdown",
   "id": "96ad8727",
   "metadata": {},
   "source": [
    "## Create Design Matrix"
   ]
  },
  {
   "cell_type": "markdown",
   "id": "77ca3bae",
   "metadata": {},
   "source": [
    "### Import motion regressors"
   ]
  },
  {
   "cell_type": "code",
   "execution_count": null,
   "id": "686bba68",
   "metadata": {},
   "outputs": [],
   "source": [
    "# Set motion parameters and input as a dataframe\n",
    "motion_reg = pd.read_csv(fmri_run_data_dir+subj+'_task-'+task+'_run-'+str(n+1)+'_desc-confounds_timeseries.tsv', sep='\\t')\n",
    "    \n",
    "# Filter for just the motion regressors specified above and add to a \n",
    "# general confounds list\n",
    "confounds.append(motion_reg[motion_reg_names])"
   ]
  },
  {
   "cell_type": "code",
   "execution_count": null,
   "id": "43b5b344",
   "metadata": {},
   "outputs": [],
   "source": [
    "## Loop through all functional runs"
   ]
  },
  {
   "cell_type": "code",
   "execution_count": null,
   "id": "c3d53f7b",
   "metadata": {},
   "outputs": [],
   "source": [
    "design_matrices = []\n",
    "for n in range(len(func_runs)):\n",
    "    # Set motion parameters and input as a dataframe\n",
    "    motion_reg = pd.read_csv(fmri_run_data_dir+subj+'_task-'+task+'_run-'+str(n+1)+'_desc-confounds_timeseries.tsv', sep='\\t')\n",
    "    \n",
    "    # Filter for just the motion regressors specified above and add to a \n",
    "    # general confounds list\n",
    "    confounds.append(motion_reg[motion_reg_names])\n",
    "\n",
    "    # Import the event file as a dataframe                 \n",
    "    temp_event_file = pd.read_csv(event_files[n])\n",
    "    temp_event_file = temp_event_file[temp_event_file['trial_type'].str.contains('fixation') == False]\n",
    "    events.append(temp_event_file)\n",
    "    \n",
    "    # Set the first level model parameters\n",
    "    fmri_glm = FirstLevelModel(t_r=tr,\n",
    "                               mask_img=subj_t1,\n",
    "                               slice_time_ref=0.5,\n",
    "                               noise_model='ar1',\n",
    "                               standardize=False,\n",
    "                               hrf_model='spm',\n",
    "                               drift_model='polynomial',\n",
    "                               high_pass=0.01)\n",
    "\n",
    "    # Conduct the GLM using the functional data, event file, and the confounds\n",
    "    fmri_glm = fmri_glm.fit(func_runs[n], events[n], confounds[n])\n",
    "\n",
    "    # Specify the design matrix to pull conditions and contrasts later\n",
    "    design_matrix = fmri_glm.design_matrices_[0]\n",
    "    \n",
    "    # Find the total number of conditions in the design matrix\n",
    "    n_conds = len(design_matrix.columns)\n",
    "\n",
    "\n",
    "    # Set contrasts for each condition, to make a beta map for each condition\n",
    "    # This loop sets a column of 1s for each condition separately, so that\n",
    "    # each condition can be examined separately \n",
    "    contrasts = {}\n",
    "    for cond in relv_conds:\n",
    "        contrasts[cond] = np.zeros(n_conds)\n",
    "        cond_idx = [design_matrix.columns.to_list().index(cond)]\n",
    "        contrasts[cond][cond_idx] = 1\n",
    "\n",
    "\n",
    "    # Create z-scored beta maps contrasts\n",
    "    for n_cont in range(len(contrasts)):\n",
    "        cont_name = list(contrasts.keys())[n_cont]\n",
    "        z_map = fmri_glm.compute_contrast(contrasts[cont_name], output_type='z_score')\n",
    "    \n",
    "        z_map.to_filename(os.path.join(outp_dir,'zmap_'+task+'_'+cont_name+'_run-'+str(n+1)+'.nii.gz'))\n",
    "    \n",
    "    # Export design matrix image\n",
    "    \n",
    "    \n",
    "    # Save design matrix for between run analysis\n",
    "    design_matrices.append(design_matrix)"
   ]
  },
  {
   "cell_type": "markdown",
   "id": "2cdf1534",
   "metadata": {},
   "source": [
    "# All Subjects"
   ]
  },
  {
   "cell_type": "markdown",
   "id": "934ebdb6",
   "metadata": {},
   "source": [
    "***\n",
    "# Second Level Analysis"
   ]
  },
  {
   "cell_type": "code",
   "execution_count": null,
   "id": "3cc49e43",
   "metadata": {},
   "outputs": [],
   "source": []
  }
 ],
 "metadata": {
  "kernelspec": {
   "display_name": "Python 3 (ipykernel)",
   "language": "python",
   "name": "python3"
  },
  "language_info": {
   "codemirror_mode": {
    "name": "ipython",
    "version": 3
   },
   "file_extension": ".py",
   "mimetype": "text/x-python",
   "name": "python",
   "nbconvert_exporter": "python",
   "pygments_lexer": "ipython3",
   "version": "3.11.5"
  }
 },
 "nbformat": 4,
 "nbformat_minor": 5
}
